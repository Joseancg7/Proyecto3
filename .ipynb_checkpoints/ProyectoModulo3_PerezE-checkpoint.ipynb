{
 "cells": [
  {
   "cell_type": "markdown",
   "metadata": {},
   "source": [
    "# Puerto de descarga de material"
   ]
  },
  {
   "cell_type": "markdown",
   "metadata": {},
   "source": [
    "### Objetivo\n",
    "#### General\n",
    "  * Simular la el problema de muelle de descarga mediante el método Montecarlo.  \n",
    "\n",
    "#### Específico\n",
    "  * Determinar cuandos barcos se descargan con restraso.\n",
    "  * Determinar cuantos barcos se van por falta de espacio.\n",
    "  * Determinar en cuantos días se presenta el problema."
   ]
  },
  {
   "cell_type": "markdown",
   "metadata": {},
   "source": [
    "### Definición del problema"
   ]
  },
  {
   "cell_type": "markdown",
   "metadata": {},
   "source": [
    "A  un  puerto  de  carga  y  descarga  de  material,  llegan  durante  la  noche  los  barcos,  que  serán descargados  durante  el  día  siguiente.  El  número  de  barcos  que  atracan cualquier  noche varíaentre 0 y 5 barcos. La probabilidad de 0, 1, 2, 3, 4 y 5 llegadas se muestra en la tabla 1. Un  estudio  realizado  por  la  Dirección  del  puerto,  revela  que  el  número  de  barcos  que  se descargan en un día también es variable, dependiendo del tamaño del barco y del tipo de carga que se trate. Los resultados de este estudio, en cuanto a la probabilidad del número de barcos descargados por día, se muestran en la tabla 2.  \n",
    "   \n",
    "Tabla 1\n",
    "\n",
    "Número de llegadas|Probabilidad  \n",
    ":----|----\n",
    "0| 0.13\n",
    "1| 0.17\n",
    "2| 0.15\n",
    "3| 0.25 \n",
    "4| 0.20 \n",
    "5| 0.10  \n",
    " Total| 1\n",
    " Tabla 2\n",
    "  \n",
    " Número de barcos descargados|Probabilidad  \n",
    ":----|----\n",
    "1| 0.05\n",
    "2| 0.15\n",
    "3| 0.50 \n",
    "4| 0.20 \n",
    "5| 0.10  \n",
    " Total| 1\n",
    " \n",
    "Los barcos se descargan según el orden de llegada, por lo que cualquier barco que no se haya podido descargar durante el día posterior a la noche de su llegada, deberá pasar otra noche en el  puerto  para  ser  descargado  en  el  día  siguiente.  Debido  al  importante  coste  que  supone mantener  un  barco  en  el  puerto  por  no  haber  podido  descargarlo  a  tiempo,  se  estudia  la posibilidad de aumentar la plantilla del puerto. Pero antes, la Dirección del puerto quiere saber cuantos barcos se descargan con retraso, para lo cual se simularán 15 días de funcionamiento del puerto."
   ]
  },
  {
   "cell_type": "code",
   "execution_count": null,
   "metadata": {},
   "outputs": [],
   "source": []
  }
 ],
 "metadata": {
  "kernelspec": {
   "display_name": "Python 3",
   "language": "python",
   "name": "python3"
  },
  "language_info": {
   "codemirror_mode": {
    "name": "ipython",
    "version": 3
   },
   "file_extension": ".py",
   "mimetype": "text/x-python",
   "name": "python",
   "nbconvert_exporter": "python",
   "pygments_lexer": "ipython3",
   "version": "3.6.5"
  }
 },
 "nbformat": 4,
 "nbformat_minor": 2
}
